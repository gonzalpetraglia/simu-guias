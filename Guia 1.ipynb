{
 "cells": [
  {
   "cell_type": "markdown",
   "metadata": {},
   "source": [
    "# Ejercicio 1"
   ]
  },
  {
   "cell_type": "code",
   "execution_count": 1,
   "metadata": {},
   "outputs": [],
   "source": [
    "class RandomGen(object):\n",
    "    \n",
    "    def __init__(self, a, c, m,seed=0):\n",
    "        self.a = a\n",
    "        self.c = c\n",
    "        self.m = m\n",
    "        self.state = seed\n",
    "    \n",
    "    def _linear_fun(self, x):\n",
    "        return ( self.a * x + self.c ) % self.m\n",
    "        \n",
    "    def set_seed(self, seed):\n",
    "        self.state = seed\n",
    "    \n",
    "    def gen(self):\n",
    "        self.state = self._linear_fun(self.state)\n",
    "        return self.state\n",
    "    \n"
   ]
  },
  {
   "cell_type": "code",
   "execution_count": 2,
   "metadata": {},
   "outputs": [
    {
     "data": {
      "text/plain": [
       "[7, 4, 1, 8, 5, 2, 9, 6, 3, 0, 7]"
      ]
     },
     "execution_count": 2,
     "metadata": {},
     "output_type": "execute_result"
    }
   ],
   "source": [
    "random = RandomGen(1,7,10)\n",
    "random.set_seed(0)\n",
    "[random.gen() for i in range(11)]"
   ]
  },
  {
   "cell_type": "code",
   "execution_count": 3,
   "metadata": {},
   "outputs": [
    {
     "data": {
      "text/plain": [
       "[8, 5, 2, 9, 6, 3, 0, 7, 4, 1, 8]"
      ]
     },
     "execution_count": 3,
     "metadata": {},
     "output_type": "execute_result"
    }
   ],
   "source": [
    "random.set_seed(1)\n",
    "[random.gen() for i in range(11)]"
   ]
  },
  {
   "cell_type": "raw",
   "metadata": {},
   "source": [
    "# Ejercicio 2\n",
    "\n",
    "- No son repetibles los resultados\n",
    "- ??\n"
   ]
  },
  {
   "cell_type": "markdown",
   "metadata": {},
   "source": [
    "# Ejercicio 3"
   ]
  },
  {
   "cell_type": "code",
   "execution_count": 4,
   "metadata": {},
   "outputs": [
    {
     "data": {
      "text/plain": [
       "[15, 45, 135, 105, 15, 45, 135, 105, 15, 45]"
      ]
     },
     "execution_count": 4,
     "metadata": {},
     "output_type": "execute_result"
    }
   ],
   "source": [
    "random_ex3 = RandomGen(3, 0, 150, seed=5)\n",
    "random_ex3.set_seed(5)\n",
    "[random_ex3.gen() for i in range(10)]"
   ]
  },
  {
   "cell_type": "markdown",
   "metadata": {},
   "source": [
    "# Ejercicio 4"
   ]
  },
  {
   "cell_type": "code",
   "execution_count": 5,
   "metadata": {},
   "outputs": [
    {
     "data": {
      "text/plain": [
       "5"
      ]
     },
     "execution_count": 5,
     "metadata": {},
     "output_type": "execute_result"
    }
   ],
   "source": [
    "random_ex4 = RandomGen(3,0,7, seed=6)\n",
    "for i in range(50):\n",
    "    r = random_ex4.gen()\n",
    "    \n",
    "r"
   ]
  },
  {
   "cell_type": "code",
   "execution_count": 6,
   "metadata": {},
   "outputs": [
    {
     "name": "stdout",
     "output_type": "stream",
     "text": [
      "4\n"
     ]
    }
   ],
   "source": [
    "random_ex5 = RandomGen(4,0,7,seed=1)\n",
    "for i in range(100):\n",
    "    r = random_ex5.gen()\n",
    "print(r)"
   ]
  },
  {
   "cell_type": "markdown",
   "metadata": {},
   "source": [
    "Creo que 6, puesto que cualquier generador multiplicativ que genera el 0 tiene una secuencia infinita de 0s consecutivos, y 6 se genera, como se ve abajo, con multiplicador 3."
   ]
  },
  {
   "cell_type": "code",
   "execution_count": 7,
   "metadata": {},
   "outputs": [
    {
     "data": {
      "text/plain": [
       "[3, 2, 6, 4, 5, 1, 3]"
      ]
     },
     "execution_count": 7,
     "metadata": {},
     "output_type": "execute_result"
    }
   ],
   "source": [
    "random_ex5 = RandomGen(3,0,7,seed=1)\n",
    "[random_ex5.gen() for i in range(7)]"
   ]
  },
  {
   "cell_type": "code",
   "execution_count": 8,
   "metadata": {},
   "outputs": [
    {
     "data": {
      "text/plain": [
       "[7, 10, 5, 9, 11, 12, 6, 3, 8, 4, 2, 1, 7]"
      ]
     },
     "execution_count": 8,
     "metadata": {},
     "output_type": "execute_result"
    }
   ],
   "source": [
    "random_ex5 = RandomGen(7,0,13,seed=1)\n",
    "[random_ex5.gen() for i in range(13)]"
   ]
  },
  {
   "cell_type": "markdown",
   "metadata": {},
   "source": [
    "1. Verdadera, ver arriba\n",
    "2. Asumo que si.\n",
    "3. Verdadera, ver arriba"
   ]
  },
  {
   "cell_type": "code",
   "execution_count": 9,
   "metadata": {},
   "outputs": [
    {
     "name": "stdout",
     "output_type": "stream",
     "text": [
      "[2420834, 14438337, 5943458]\n"
     ]
    }
   ],
   "source": [
    "# Ejercicio 6\n",
    "random_ex6 = RandomGen(1140671,1280163,2**24,seed=1)\n",
    "\n",
    "\n",
    "print([random_ex6.gen() for i in range(3)])\n",
    "\n",
    "# xi * 7 + 4 = 3 mod 9 => xi  = 5   \n"
   ]
  },
  {
   "cell_type": "code",
   "execution_count": 11,
   "metadata": {},
   "outputs": [
    {
     "name": "stdout",
     "output_type": "stream",
     "text": [
      "420\n"
     ]
    }
   ],
   "source": [
    "# Ejercicio 7\n",
    "r = 3 * 5 * 7 * 4 #gcd (3,5,7,4) using that everyone is coprime of the other 3\n",
    "print(r)"
   ]
  },
  {
   "cell_type": "code",
   "execution_count": 12,
   "metadata": {},
   "outputs": [],
   "source": [
    "# creo que deberia ser gcd de los divisores (asumiendo fracciones indivisibles)\n",
    "# y deberia haber gcd*fraccion de cada bola\n"
   ]
  },
  {
   "cell_type": "code",
   "execution_count": 13,
   "metadata": {},
   "outputs": [],
   "source": [
    "# ejercicio 8\n",
    "\n",
    "#prob  numero valido = 6/8\n",
    "\n",
    "#prob (n=1..6 | n <=6 )= prob(n  <=6 y prob=1..6) /prob(n<=6)=\n",
    "# 1/8 /  6/8 = 1/6"
   ]
  },
  {
   "cell_type": "code",
   "execution_count": 14,
   "metadata": {},
   "outputs": [],
   "source": [
    "#ejercicio 9"
   ]
  },
  {
   "cell_type": "code",
   "execution_count": 20,
   "metadata": {},
   "outputs": [
    {
     "data": {
      "text/plain": [
       "<function matplotlib.pyplot.show>"
      ]
     },
     "execution_count": 20,
     "metadata": {},
     "output_type": "execute_result"
    },
    {
     "data": {
      "image/png": "[encoded data removed]",
      "text/plain": [
       "<Figure size 432x288 with 1 Axes>"
      ]
     },
     "metadata": {
      "needs_background": "light"
     },
     "output_type": "display_data"
    }
   ],
   "source": [
    "import random\n",
    "import matplotlib.pyplot as plt\n",
    "xs, ys = zip(*[(random.random(), random.random()) for i in range (1000)])\n",
    "\n",
    "plt.scatter(xs, ys)\n",
    "plt.show"
   ]
  },
  {
   "cell_type": "code",
   "execution_count": null,
   "metadata": {},
   "outputs": [],
   "source": []
  }
 ],
 "metadata": {
  "kernelspec": {
   "display_name": "Python 2",
   "language": "python",
   "name": "python2"
  },
  "language_info": {
   "codemirror_mode": {
    "name": "ipython",
    "version": 2
   },
   "file_extension": ".py",
   "mimetype": "text/x-python",
   "name": "python",
   "nbconvert_exporter": "python",
   "pygments_lexer": "ipython2",
   "version": "2.7.12"
  }
 },
 "nbformat": 4,
 "nbformat_minor": 2
}
