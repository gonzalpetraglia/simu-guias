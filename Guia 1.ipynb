{
 "cells": [
  {
   "cell_type": "markdown",
   "metadata": {},
   "source": [
    "# Ejercicio 1"
   ]
  },
  {
   "cell_type": "code",
   "execution_count": 1,
   "metadata": {},
   "outputs": [],
   "source": [
    "class RandomGen(object):\n",
    "    \n",
    "    def __init__(self, a, c, m,seed=0):\n",
    "        self.a = a\n",
    "        self.c = c\n",
    "        self.m = m\n",
    "        self.state = seed\n",
    "    \n",
    "    def _linear_fun(self, x):\n",
    "        return ( self.a * x + self.c ) % self.m\n",
    "        \n",
    "    def set_seed(self, seed):\n",
    "        self.state = seed\n",
    "    \n",
    "    def gen(self):\n",
    "        self.state = self._linear_fun(self.state)\n",
    "        return self.state\n",
    "    \n"
   ]
  },
  {
   "cell_type": "code",
   "execution_count": 2,
   "metadata": {},
   "outputs": [
    {
     "data": {
      "text/plain": [
       "[7, 4, 1, 8, 5, 2, 9, 6, 3, 0, 7]"
      ]
     },
     "execution_count": 2,
     "metadata": {},
     "output_type": "execute_result"
    }
   ],
   "source": [
    "random = RandomGen(1,7,10)\n",
    "random.set_seed(0)\n",
    "[random.gen() for i in range(11)]"
   ]
  },
  {
   "cell_type": "code",
   "execution_count": 3,
   "metadata": {},
   "outputs": [
    {
     "data": {
      "text/plain": [
       "[8, 5, 2, 9, 6, 3, 0, 7, 4, 1, 8]"
      ]
     },
     "execution_count": 3,
     "metadata": {},
     "output_type": "execute_result"
    }
   ],
   "source": [
    "random.set_seed(1)\n",
    "[random.gen() for i in range(11)]"
   ]
  },
  {
   "cell_type": "raw",
   "metadata": {},
   "source": [
    "# Ejercicio 2\n",
    "\n",
    "- No son repetibles los resultados\n",
    "- ??\n"
   ]
  },
  {
   "cell_type": "markdown",
   "metadata": {},
   "source": [
    "# Ejercicio 3"
   ]
  },
  {
   "cell_type": "code",
   "execution_count": 4,
   "metadata": {},
   "outputs": [
    {
     "data": {
      "text/plain": [
       "[15, 45, 135, 105, 15, 45, 135, 105, 15, 45]"
      ]
     },
     "execution_count": 4,
     "metadata": {},
     "output_type": "execute_result"
    }
   ],
   "source": [
    "random_ex3 = RandomGen(3, 0, 150, seed=5)\n",
    "random_ex3.set_seed(5)\n",
    "[random_ex3.gen() for i in range(10)]"
   ]
  },
  {
   "cell_type": "markdown",
   "metadata": {},
   "source": [
    "# Ejercicio 4"
   ]
  },
  {
   "cell_type": "code",
   "execution_count": 5,
   "metadata": {},
   "outputs": [
    {
     "data": {
      "text/plain": [
       "5"
      ]
     },
     "execution_count": 5,
     "metadata": {},
     "output_type": "execute_result"
    }
   ],
   "source": [
    "random_ex4 = RandomGen(3,0,7, seed=6)\n",
    "for i in range(50):\n",
    "    r = random_ex4.gen()\n",
    "    \n",
    "r"
   ]
  },
  {
   "cell_type": "code",
   "execution_count": 6,
   "metadata": {},
   "outputs": [
    {
     "name": "stdout",
     "output_type": "stream",
     "text": [
      "4\n"
     ]
    }
   ],
   "source": [
    "random_ex5 = RandomGen(4,0,7,seed=1)\n",
    "for i in range(100):\n",
    "    r = random_ex5.gen()\n",
    "print(r)"
   ]
  },
  {
   "cell_type": "markdown",
   "metadata": {},
   "source": [
    "Creo que 6, puesto que cualquier generador multiplicativ que genera el 0 tiene una secuencia infinita de 0s consecutivos, y 6 se genera, como se ve abajo, con multiplicador 3."
   ]
  },
  {
   "cell_type": "code",
   "execution_count": 7,
   "metadata": {},
   "outputs": [
    {
     "data": {
      "text/plain": [
       "[3, 2, 6, 4, 5, 1, 3]"
      ]
     },
     "execution_count": 7,
     "metadata": {},
     "output_type": "execute_result"
    }
   ],
   "source": [
    "random_ex5 = RandomGen(3,0,7,seed=1)\n",
    "[random_ex5.gen() for i in range(7)]"
   ]
  },
  {
   "cell_type": "code",
   "execution_count": 8,
   "metadata": {},
   "outputs": [
    {
     "data": {
      "text/plain": [
       "[7, 10, 5, 9, 11, 12, 6, 3, 8, 4, 2, 1, 7]"
      ]
     },
     "execution_count": 8,
     "metadata": {},
     "output_type": "execute_result"
    }
   ],
   "source": [
    "random_ex5 = RandomGen(7,0,13,seed=1)\n",
    "[random_ex5.gen() for i in range(13)]"
   ]
  },
  {
   "cell_type": "markdown",
   "metadata": {},
   "source": [
    "1. Verdadera, ver arriba\n",
    "2. Asumo que si.\n",
    "3. Verdadera, ver arriba"
   ]
  },
  {
   "cell_type": "code",
   "execution_count": 9,
   "metadata": {},
   "outputs": [
    {
     "name": "stdout",
     "output_type": "stream",
     "text": [
      "[2420834, 14438337L, 5943458L]\n"
     ]
    }
   ],
   "source": [
    "# Ejercicio 6\n",
    "random_ex6 = RandomGen(1140671,1280163,2**24,seed=1)\n",
    "\n",
    "\n",
    "print([random_ex6.gen() for i in range(3)])\n",
    "\n",
    "# xi * 7 + 4 = 3 mod 9 => xi  = 5   \n"
   ]
  },
  {
   "cell_type": "code",
   "execution_count": 10,
   "metadata": {},
   "outputs": [
    {
     "name": "stdout",
     "output_type": "stream",
     "text": [
      "420\n"
     ]
    }
   ],
   "source": [
    "# Ejercicio 7\n",
    "r = 3 * 5 * 7 * 4 #gcd (3,5,7,4) using that everyone is coprime of the other 3\n",
    "print(r)"
   ]
  },
  {
   "cell_type": "code",
   "execution_count": 11,
   "metadata": {},
   "outputs": [],
   "source": [
    "# creo que deberia ser gcd de los divisores (asumiendo fracciones indivisibles)\n",
    "# y deberia haber gcd*fraccion de cada bola\n"
   ]
  },
  {
   "cell_type": "code",
   "execution_count": 12,
   "metadata": {},
   "outputs": [],
   "source": [
    "# ejercicio 8\n",
    "\n",
    "#prob  numero valido = 6/8\n",
    "\n",
    "#prob (n=1..6 | n <=6 )= prob(n  <=6 y prob=1..6) /prob(n<=6)=\n",
    "# 1/8 /  6/8 = 1/6"
   ]
  },
  {
   "cell_type": "code",
   "execution_count": 13,
   "metadata": {},
   "outputs": [],
   "source": [
    "#ejercicio 9"
   ]
  },
  {
   "cell_type": "code",
   "execution_count": 21,
   "metadata": {},
   "outputs": [
    {
     "ename": "ImportError",
     "evalue": "No module named matplotlib.pyplot",
     "output_type": "error",
     "traceback": [
      "\u001b[0;31m---------------------------------------------------------------------------\u001b[0m",
      "\u001b[0;31mImportError\u001b[0m                               Traceback (most recent call last)",
      "\u001b[0;32m<ipython-input-21-eeb23e9eee82>\u001b[0m in \u001b[0;36m<module>\u001b[0;34m()\u001b[0m\n\u001b[1;32m      1\u001b[0m \u001b[0;32mimport\u001b[0m \u001b[0mrandom\u001b[0m\u001b[0;34m\u001b[0m\u001b[0m\n\u001b[0;32m----> 2\u001b[0;31m \u001b[0;32mimport\u001b[0m \u001b[0mmatplotlib\u001b[0m\u001b[0;34m.\u001b[0m\u001b[0mpyplot\u001b[0m \u001b[0;32mas\u001b[0m \u001b[0mplt\u001b[0m\u001b[0;34m\u001b[0m\u001b[0m\n\u001b[0m\u001b[1;32m      3\u001b[0m \u001b[0mxs\u001b[0m\u001b[0;34m,\u001b[0m \u001b[0mys\u001b[0m \u001b[0;34m=\u001b[0m \u001b[0mzip\u001b[0m\u001b[0;34m(\u001b[0m\u001b[0;34m*\u001b[0m\u001b[0;34m[\u001b[0m\u001b[0;34m(\u001b[0m\u001b[0mrandom\u001b[0m\u001b[0;34m.\u001b[0m\u001b[0mrandom\u001b[0m\u001b[0;34m(\u001b[0m\u001b[0;34m)\u001b[0m\u001b[0;34m,\u001b[0m \u001b[0mrandom\u001b[0m\u001b[0;34m.\u001b[0m\u001b[0mrandom\u001b[0m\u001b[0;34m(\u001b[0m\u001b[0;34m)\u001b[0m\u001b[0;34m)\u001b[0m \u001b[0;32mfor\u001b[0m \u001b[0mi\u001b[0m \u001b[0;32min\u001b[0m \u001b[0mrange\u001b[0m \u001b[0;34m(\u001b[0m\u001b[0;36m1000\u001b[0m\u001b[0;34m)\u001b[0m\u001b[0;34m]\u001b[0m\u001b[0;34m)\u001b[0m\u001b[0;34m\u001b[0m\u001b[0m\n\u001b[1;32m      4\u001b[0m \u001b[0;34m\u001b[0m\u001b[0m\n\u001b[1;32m      5\u001b[0m \u001b[0mplt\u001b[0m\u001b[0;34m.\u001b[0m\u001b[0mscatter\u001b[0m\u001b[0;34m(\u001b[0m\u001b[0mxs\u001b[0m\u001b[0;34m,\u001b[0m \u001b[0mys\u001b[0m\u001b[0;34m)\u001b[0m\u001b[0;34m\u001b[0m\u001b[0m\n",
      "\u001b[0;31mImportError\u001b[0m: No module named matplotlib.pyplot"
     ]
    }
   ],
   "source": [
    "import random\n",
    "import matplotlib.pyplot as plt\n",
    "xs, ys = zip(*[(random.random(), random.random()) for i in range (1000)])\n",
    "\n",
    "plt.scatter(xs, ys)\n",
    "plt.show()"
   ]
  },
  {
   "cell_type": "code",
   "execution_count": 22,
   "metadata": {},
   "outputs": [],
   "source": [
    "#ejercicio 10\n",
    "\n",
    "\n",
    "def f(x):\n",
    "    return 30 * (x ** 2 - 2 * x ** 3 + x ** 4)\n",
    "\n",
    "def gen_var(pdf, c):\n",
    "    var_generated = False\n",
    "    while not var_generated:\n",
    "        x =  random.random()\n",
    "        y = random.random()\n",
    "        if c * y < pdf(x):\n",
    "            var_generated = True\n",
    "            \n",
    "            \n",
    "sample =  [gen_var(f, 1.0/16) for i in range (100)]\n",
    "\n",
    "\n",
    "plt.hist(sample)\n",
    "plt.show()"
   ]
  },
  {
   "cell_type": "code",
   "execution_count": null,
   "metadata": {},
   "outputs": [],
   "source": [
    "#ejercicio 11\n",
    "def g(x):\n",
    "    return 5.0 / 4.0 * x ** (-2)\n",
    "\n",
    "     \n",
    "            \n",
    "sample =  [gen_var(g, 5) for i in range (100)]\n",
    "\n",
    "\n",
    "plt.hist(sample)\n",
    "plt.show()"
   ]
  },
  {
   "cell_type": "code",
   "execution_count": 23,
   "metadata": {},
   "outputs": [],
   "source": [
    "# ejercicio 12\n",
    "\n",
    "\n",
    "def gen_pair():\n",
    "    valid = False\n",
    "    while not valid:\n",
    "        x = random.random()\n",
    "        y = random.random()\n",
    "        if y > x:\n",
    "            valid = True\n",
    "    \n",
    "     \n",
    "            \n",
    "xs,  ys =  zip(*[gen_pair(f) for i in range (100)])\n",
    "\n",
    "\n",
    "plt.hist(xs)\n",
    "plt.hist(ys)\n",
    "plt.scatter(xs,ys)\n",
    "plt.show()"
   ]
  },
  {
   "cell_type": "code",
   "execution_count": 24,
   "metadata": {},
   "outputs": [],
   "source": [
    "# ejercicio 13\n",
    "from statictics import mean, pvariance\n",
    "\n",
    "def gen_unif(a,b):\n",
    "    return random.random() * (b - a ) + a\n",
    "\n",
    "sample_10 = [gen_unif(-5, 15) for i in range(10)]\n",
    "sample_50 = [gen_unif(-5, 15) for i in range(50)]\n",
    "sample_200 = [gen_unif(-5, 15) for i in range(200)]\n",
    "sample_100 = [gen_unif(-5, 15) for i in range(100)]\n",
    "\n",
    "\n",
    "\n",
    "print (mean(sample_10), pvariance(sample_10))\n",
    "print (mean(sample_50), pvariance(sample_50))\n",
    "print (mean(sample_200), pvariance(sample_200))\n",
    "print (mean(sample_100), pvariance(sample_100))"
   ]
  },
  {
   "cell_type": "code",
   "execution_count": null,
   "metadata": {},
   "outputs": [],
   "source": [
    "#ejercicio 14\n",
    "\n",
    "def gen_x():\n",
    "    pass #inv distri\n",
    "\n"
   ]
  },
  {
   "cell_type": "code",
   "execution_count": null,
   "metadata": {},
   "outputs": [],
   "source": []
  },
  {
   "cell_type": "code",
   "execution_count": 25,
   "metadata": {},
   "outputs": [
    {
     "ename": "SyntaxError",
     "evalue": "invalid syntax (<ipython-input-25-f5e0ecb3108e>, line 5)",
     "output_type": "error",
     "traceback": [
      "\u001b[0;36m  File \u001b[0;32m\"<ipython-input-25-f5e0ecb3108e>\"\u001b[0;36m, line \u001b[0;32m5\u001b[0m\n\u001b[0;31m    p_2 = gen_events_poisson(2, 100)\u001b[0m\n\u001b[0m      ^\u001b[0m\n\u001b[0;31mSyntaxError\u001b[0m\u001b[0;31m:\u001b[0m invalid syntax\n"
     ]
    }
   ],
   "source": []
  },
  {
   "cell_type": "code",
   "execution_count": null,
   "metadata": {},
   "outputs": [],
   "source": []
  }
 ],
 "metadata": {
  "kernelspec": {
   "display_name": "Python 2",
   "language": "python",
   "name": "python2"
  },
  "language_info": {
   "codemirror_mode": {
    "name": "ipython",
    "version": 2
   },
   "file_extension": ".py",
   "mimetype": "text/x-python",
   "name": "python",
   "nbconvert_exporter": "python",
   "pygments_lexer": "ipython2",
   "version": "2.7.12"
  }
 },
 "nbformat": 4,
 "nbformat_minor": 2
}
