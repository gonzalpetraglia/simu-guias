{
 "cells": [
  {
   "cell_type": "code",
   "execution_count": 2,
   "metadata": {},
   "outputs": [
    {
     "data": {
      "text/plain": [
       "<Figure size 640x480 with 1 Axes>"
      ]
     },
     "metadata": {},
     "output_type": "display_data"
    }
   ],
   "source": [
    "# Ejercicio 12\n",
    "from scipy.stats import poisson, expon, gamma\n",
    "import matplotlib.pyplot as plt\n",
    "from random import gammavariate\n",
    "\n",
    "def zip_with(f, coll,coll2):\n",
    "    return map(f, zip(coll,coll2))\n",
    "\n",
    "\n",
    "\n",
    "sample = expon.rvs(size=100000)\n",
    "sample2 = expon.rvs(size=100000)\n",
    "\n",
    "\n",
    "artificial_gamma_sample = list(zip_with(lambda x: x[0]+x[1], sample, sample2))\n",
    "plt.hist(artificial_gamma_sample,bins=100, alpha=0.3)\n",
    "\n",
    "gamma_sample = gamma.rvs(2,size=100000)\n",
    "plt.hist(gamma_sample,bins=100, alpha=0.3)\n",
    "\n",
    "gamma_sample2 = [gammavariate(2,1) for i in range(100000)]\n",
    "plt.hist(gamma_sample2,bins=100, alpha=0.3)\n",
    "plt.show()\n"
   ]
  },
  {
   "cell_type": "code",
   "execution_count": 50,
   "metadata": {},
   "outputs": [
    {
     "name": "stdout",
     "output_type": "stream",
     "text": [
      "0.263\n",
      "0.2641\n",
      "0.26381\n"
     ]
    }
   ],
   "source": [
    "def less_1(x):\n",
    "    return 1 if x < 1 else 0\n",
    "pr1 = sum(map(less_1, artificial_gamma_sample))\n",
    "pr2 = sum(map(less_1, gamma_sample))\n",
    "pr3 = sum(map(less_1, gamma_sample2))\n",
    "print(float(pr1)/100000)\n",
    "print(float(pr2)/100000)\n",
    "print(float(pr3)/100000)"
   ]
  },
  {
   "cell_type": "code",
   "execution_count": 58,
   "metadata": {},
   "outputs": [
    {
     "name": "stdout",
     "output_type": "stream",
     "text": [
      "0.035673993347252395\n",
      "0.035673993347252395\n"
     ]
    }
   ],
   "source": [
    "# Ejerecicio 13\n",
    "#Proba de que N1/6(20) == 0\n",
    "# o, visto de otra manera, proba de que S1/6(1) > 20 o T1/6()> 20 \n",
    "\n",
    "proba = poisson.pmf(0, 20.0/6)\n",
    "proba2 = expon.sf(20, scale=6)\n",
    "print(proba)\n",
    "print(proba2)"
   ]
  },
  {
   "cell_type": "code",
   "execution_count": 35,
   "metadata": {},
   "outputs": [
    {
     "name": "stdout",
     "output_type": "stream",
     "text": [
      "a 0.666754\n"
     ]
    },
    {
     "data": {
      "image/png": "[encoded data removed]",
      "text/plain": [
       "<Figure size 432x288 with 1 Axes>"
      ]
     },
     "metadata": {
      "needs_background": "light"
     },
     "output_type": "display_data"
    }
   ],
   "source": [
    "# Ejercicio 14\n",
    "\n",
    "# pr =  2/3 = min\n",
    "suma = 0\n",
    "size = 1000000\n",
    "\n",
    "sample_1 = expon.rvs(size=size, scale=1)\n",
    "sample_2 = expon.rvs(size=size, scale=0.5)\n",
    "\n",
    "for time_1, time_2 in zip(sample_1, sample_2):\n",
    "    if time_2 < time_1:\n",
    "        suma += 1\n",
    "\n",
    "print('a ' + str(suma/size))\n",
    "\n",
    "\n",
    "sample_reduced = list(map(lambda x: min(x[0],x[1]), zip(sample_1, sample_2)))\n",
    "\n",
    "sample_3 = expon.rvs(size=size, scale=1.0/3)\n",
    "\n",
    "plt.hist(sample_reduced, alpha=0.3,bins=100)\n",
    "plt.hist(sample_3, alpha=0.3,bins=100)\n",
    "print('b')\n",
    "plt.show()\n"
   ]
  },
  {
   "cell_type": "code",
   "execution_count": null,
   "metadata": {},
   "outputs": [],
   "source": []
  }
 ],
 "metadata": {
  "kernelspec": {
   "display_name": "Python 3",
   "language": "python",
   "name": "python3"
  },
  "language_info": {
   "codemirror_mode": {
    "name": "ipython",
    "version": 3
   },
   "file_extension": ".py",
   "mimetype": "text/x-python",
   "name": "python",
   "nbconvert_exporter": "python",
   "pygments_lexer": "ipython3",
   "version": "3.5.2"
  }
 },
 "nbformat": 4,
 "nbformat_minor": 2
}
